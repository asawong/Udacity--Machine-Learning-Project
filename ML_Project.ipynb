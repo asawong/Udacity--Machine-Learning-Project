{
 "cells": [
  {
   "cell_type": "markdown",
   "metadata": {},
   "source": [
    "# 机器学习 -- 安然数据集分析报告"
   ]
  },
  {
   "cell_type": "markdown",
   "metadata": {},
   "source": [
    "安然曾是 2000 年美国最大的公司之一。辉煌时期，市值高达700亿美元。2002 年，由于其存在大量的企业欺诈行为，这个昔日的大集团以极快的速度土崩瓦解。 在随后联邦进行的调查过程中，大量有代表性的保密信息进入了公众的视线，包括成千上万涉及高管的邮件和详细的财务数据。 我将在此项目中根据安然丑闻中公开的财务和邮件数据来构建相关人士识别符。利用机器学习算法进行数据分析，从邮件和财务数据中找出犯罪嫌疑人。"
   ]
  },
  {
   "cell_type": "code",
   "execution_count": 1,
   "metadata": {
    "collapsed": true
   },
   "outputs": [],
   "source": [
    "import pickle\n",
    "# 加载数据集\n",
    "with open('../final_project/final_project_dataset.pkl', 'r') as enron_data:\n",
    "    data_dict = pickle.load(enron_data)"
   ]
  },
  {
   "cell_type": "markdown",
   "metadata": {},
   "source": [
    "## 一、数据集探索"
   ]
  },
  {
   "cell_type": "markdown",
   "metadata": {},
   "source": [
    "### 1.数据点总数"
   ]
  },
  {
   "cell_type": "code",
   "execution_count": 2,
   "metadata": {},
   "outputs": [
    {
     "data": {
      "text/plain": [
       "146"
      ]
     },
     "execution_count": 2,
     "metadata": {},
     "output_type": "execute_result"
    }
   ],
   "source": [
    "len(data_dict)"
   ]
  },
  {
   "cell_type": "markdown",
   "metadata": {},
   "source": [
    "### 2.类之间的分配（POI/非POI）"
   ]
  },
  {
   "cell_type": "code",
   "execution_count": 3,
   "metadata": {},
   "outputs": [
    {
     "name": "stdout",
     "output_type": "stream",
     "text": [
      "The No. of pois is: 18 \n",
      "The No. of non-pois is: 128 \n"
     ]
    }
   ],
   "source": [
    "count_poi = 0\n",
    "\n",
    "for person_name in data_dict:\n",
    "    if data_dict[person_name]['poi'] == 1:\n",
    "        count_poi += 1\n",
    "        \n",
    "print \"The No. of pois is: %s \" % count_poi\n",
    "print \"The No. of non-pois is: %s \" % (len(data_dict) - count_poi)"
   ]
  },
  {
   "cell_type": "markdown",
   "metadata": {},
   "source": [
    "### 3.使用的特征数量"
   ]
  },
  {
   "cell_type": "code",
   "execution_count": 4,
   "metadata": {},
   "outputs": [
    {
     "name": "stdout",
     "output_type": "stream",
     "text": [
      "The No. of features in this dataset is : 20 \n"
     ]
    }
   ],
   "source": [
    "# 因为poi是label而不是feature，所以需要减1获救gc980   \n",
    "print \"The No. of features in this dataset is : %s \" % \\\n",
    "(len(data_dict.values()[0]) - 1)"
   ]
  },
  {
   "cell_type": "markdown",
   "metadata": {},
   "source": [
    "### 4.特征缺失值"
   ]
  },
  {
   "cell_type": "code",
   "execution_count": 5,
   "metadata": {},
   "outputs": [
    {
     "name": "stdout",
     "output_type": "stream",
     "text": [
      "各特征缺失值数量：defaultdict(<function <lambda> at 0x10eb81668>, {'salary': 51, 'to_messages': 60, 'deferral_payments': 107, 'total_payments': 21, 'long_term_incentive': 80, 'loan_advances': 142, 'bonus': 64, 'restricted_stock': 36, 'restricted_stock_deferred': 128, 'total_stock_value': 20, 'shared_receipt_with_poi': 60, 'from_poi_to_this_person': 60, 'exercised_stock_options': 44, 'from_messages': 60, 'other': 53, 'from_this_person_to_poi': 60, 'deferred_income': 97, 'expenses': 51, 'email_address': 35, 'director_fees': 129}) \n",
      "        \n",
      "各特征缺失值占比：defaultdict(<function <lambda> at 0x10eb81668>, {'salary': 0.349, 'to_messages': 0.411, 'deferral_payments': 0.733, 'total_payments': 0.144, 'long_term_incentive': 0.548, 'loan_advances': 0.973, 'bonus': 0.438, 'restricted_stock': 0.247, 'restricted_stock_deferred': 0.877, 'total_stock_value': 0.137, 'shared_receipt_with_poi': 0.411, 'from_poi_to_this_person': 0.411, 'exercised_stock_options': 0.301, 'from_messages': 0.411, 'other': 0.363, 'from_this_person_to_poi': 0.411, 'deferred_income': 0.664, 'expenses': 0.349, 'email_address': 0.24, 'director_fees': 0.884})\n"
     ]
    }
   ],
   "source": [
    "from collections import defaultdict\n",
    "\n",
    "features_NaN = defaultdict(lambda: 0)\n",
    "\n",
    "for person_name in data_dict:\n",
    "    for key in data_dict[person_name]:\n",
    "        if data_dict[person_name][key] == 'NaN':\n",
    "            features_NaN[key] += 1\n",
    "            \n",
    "print \"各特征缺失值数量：%s \" % features_NaN\n",
    "print '        '\n",
    "# 缺失值比例\n",
    "for key in features_NaN:\n",
    "    features_NaN[key] = round(float(features_NaN[key])/float(len(data_dict)), 3)\n",
    "\n",
    "print \"各特征缺失值占比：%s\" % features_NaN"
   ]
  },
  {
   "cell_type": "markdown",
   "metadata": {},
   "source": [
    "我们发现，数据集中所有的20个特征均不同程度的含有缺失值NaN，缺失值占比超过50%的有：\n",
    "'deferral_payments(0.733)',   \n",
    "'long_term_incentive(0.548)',   \n",
    "'loan_advances(0.973)',   \n",
    "'restricted_stock_deferred(0.877)'  "
   ]
  },
  {
   "cell_type": "markdown",
   "metadata": {},
   "source": [
    "## 二、异常值"
   ]
  },
  {
   "cell_type": "code",
   "execution_count": 6,
   "metadata": {
    "collapsed": true
   },
   "outputs": [],
   "source": [
    "import sys\n",
    "import matplotlib.pyplot\n",
    "sys.path.append('../tools/')\n",
    "from feature_format import featureFormat, targetFeatureSplit"
   ]
  },
  {
   "cell_type": "code",
   "execution_count": 7,
   "metadata": {},
   "outputs": [
    {
     "data": {
      "image/png": "[encoded data removed]",
      "text/plain": [
       "<matplotlib.figure.Figure at 0x110dae1d0>"
      ]
     },
     "metadata": {},
     "output_type": "display_data"
    }
   ],
   "source": [
    "# 确定查找异常值的features\n",
    "features = ['salary', 'bonus']\n",
    "\n",
    "# 从数据集中提取数据\n",
    "data = featureFormat(data_dict, features)\n",
    "\n",
    "# 画图观察\n",
    "for point in data:\n",
    "    salary = point[0]\n",
    "    bonus = point[1]\n",
    "    matplotlib.pyplot.scatter(salary, bonus)\n",
    "    \n",
    "matplotlib.pyplot.xlabel('salary')\n",
    "matplotlib.pyplot.ylabel('bonus')\n",
    "matplotlib.pyplot.show()"
   ]
  },
  {
   "cell_type": "markdown",
   "metadata": {},
   "source": [
    "从图中发现一个异常值，其'salary'大于2500万美元，'bonus'大于8000万美元，远远超过其他数据。"
   ]
  },
  {
   "cell_type": "code",
   "execution_count": 8,
   "metadata": {},
   "outputs": [
    {
     "name": "stdout",
     "output_type": "stream",
     "text": [
      "TOTAL\n"
     ]
    }
   ],
   "source": [
    "# 查找异常值的person_name\n",
    "for person_name in data_dict:\n",
    "    if data_dict[person_name]['salary'] > 25000000 and data_dict[person_name]['salary'] != 'NaN' \\\n",
    "    and data_dict[person_name]['bonus'] > 80000000 and data_dict[person_name]['bonus'] != 'NaN' :\n",
    "        print person_name"
   ]
  },
  {
   "cell_type": "markdown",
   "metadata": {},
   "source": [
    "结果发现，该异常值的“姓名”为\"TOTAL\"，回到源数据中查看发现，这个异常值是其他所有人各项数据的汇总，将其在数据集中剔除。"
   ]
  },
  {
   "cell_type": "code",
   "execution_count": 9,
   "metadata": {},
   "outputs": [
    {
     "data": {
      "text/plain": [
       "{'bonus': 97343619,\n",
       " 'deferral_payments': 32083396,\n",
       " 'deferred_income': -27992891,\n",
       " 'director_fees': 1398517,\n",
       " 'email_address': 'NaN',\n",
       " 'exercised_stock_options': 311764000,\n",
       " 'expenses': 5235198,\n",
       " 'from_messages': 'NaN',\n",
       " 'from_poi_to_this_person': 'NaN',\n",
       " 'from_this_person_to_poi': 'NaN',\n",
       " 'loan_advances': 83925000,\n",
       " 'long_term_incentive': 48521928,\n",
       " 'other': 42667589,\n",
       " 'poi': False,\n",
       " 'restricted_stock': 130322299,\n",
       " 'restricted_stock_deferred': -7576788,\n",
       " 'salary': 26704229,\n",
       " 'shared_receipt_with_poi': 'NaN',\n",
       " 'to_messages': 'NaN',\n",
       " 'total_payments': 309886585,\n",
       " 'total_stock_value': 434509511}"
      ]
     },
     "execution_count": 9,
     "metadata": {},
     "output_type": "execute_result"
    }
   ],
   "source": [
    "# 剔除“姓名”为“TOTAL”的异常值\n",
    "data_dict.pop('TOTAL')"
   ]
  },
  {
   "cell_type": "code",
   "execution_count": 10,
   "metadata": {},
   "outputs": [
    {
     "data": {
      "image/png": "[encoded data removed]",
      "text/plain": [
       "<matplotlib.figure.Figure at 0x112172910>"
      ]
     },
     "metadata": {},
     "output_type": "display_data"
    }
   ],
   "source": [
    "# 重新画图观察，是否还有异常值\n",
    "# 从数据集中提取数据\n",
    "data = featureFormat(data_dict, features)\n",
    "\n",
    "# 画图观察\n",
    "for point in data:\n",
    "    salary = point[0]\n",
    "    bonus = point[1]\n",
    "    matplotlib.pyplot.scatter(salary, bonus)\n",
    "    \n",
    "matplotlib.pyplot.xlabel('salary')\n",
    "matplotlib.pyplot.ylabel('bonus')\n",
    "matplotlib.pyplot.show()"
   ]
  },
  {
   "cell_type": "markdown",
   "metadata": {},
   "source": [
    "从图中发现，还有两个异常值，其‘salary’ 和 ‘bonus’ 都接近于0，再次查看两个异常值的‘person_name’。"
   ]
  },
  {
   "cell_type": "code",
   "execution_count": 11,
   "metadata": {},
   "outputs": [
    {
     "name": "stdout",
     "output_type": "stream",
     "text": [
      "LAY KENNETH L\n",
      "SKILLING JEFFREY K\n"
     ]
    }
   ],
   "source": [
    "for person_name in data_dict:\n",
    "    if data_dict[person_name]['salary'] > 1000000 and data_dict[person_name]['bonus'] > 5000000 and \\\n",
    "    data_dict[person_name]['salary'] != 'NaN' and data_dict[person_name]['bonus'] != 'NaN' :\n",
    "        print person_name"
   ]
  },
  {
   "cell_type": "markdown",
   "metadata": {
    "collapsed": true
   },
   "source": [
    "剩下两个是SKILLING JEFFREY K和LAY KENNETH L。他们分别是安然公司的CEO和董事长，他们是整个安然欺诈事件中最大的嫌疑犯。他们能有这么高的薪水和奖金也就不足为奇了。他们不是真的异常值，因此不对他们进行处理。"
   ]
  },
  {
   "cell_type": "markdown",
   "metadata": {},
   "source": [
    "## 二、优化特征选择"
   ]
  },
  {
   "cell_type": "markdown",
   "metadata": {},
   "source": [
    "### 1.创建新特征"
   ]
  },
  {
   "cell_type": "markdown",
   "metadata": {},
   "source": [
    "邮件相关的特征中有\"to_messages\"（发往某一特定邮箱的邮件数量）和\"from_poi_to_this_person\"（嫌疑人发往某一特定邮箱的邮件数量）两个特征，利用这两个特征的比值创建一个新的特征 ratio_from_poi，表示某一特定邮箱收到的所有邮件中来自于嫌疑人的邮件数量占比。\n",
    "\n",
    "创建这个新特征的理由是：我们倾向于认为，某一特定邮箱接收的邮件来自于嫌疑人的比例越大，这一邮箱的使用者越有可能也是嫌疑人。"
   ]
  },
  {
   "cell_type": "code",
   "execution_count": 12,
   "metadata": {
    "collapsed": true
   },
   "outputs": [],
   "source": [
    "# 创建 ratio_from_poi 新特征\n",
    "def fraction_from_poi(from_poi_to_this_person, to_messages):\n",
    "    if from_poi_to_this_person == 'NaN' or to_messages == 'NaN':\n",
    "        ratio_from_poi = 0.\n",
    "    else:\n",
    "        ratio_from_poi = float(from_poi_to_this_person) / float(to_messages)\n",
    "    \n",
    "    return ratio_from_poi"
   ]
  },
  {
   "cell_type": "code",
   "execution_count": 13,
   "metadata": {
    "collapsed": true
   },
   "outputs": [],
   "source": [
    "# 将新特征写入data_dict\n",
    "for person_name in data_dict:\n",
    "    data_dict[person_name]['ratio_from_poi'] = fraction_from_poi(\n",
    "        data_dict[person_name]['from_poi_to_this_person'],\n",
    "        data_dict[person_name]['to_messages'])"
   ]
  },
  {
   "cell_type": "markdown",
   "metadata": {},
   "source": [
    "### 2.选择最优特征"
   ]
  },
  {
   "cell_type": "code",
   "execution_count": 14,
   "metadata": {
    "collapsed": true
   },
   "outputs": [],
   "source": [
    "features_list_all = ['poi','salary', 'deferral_payments', 'total_payments',\n",
    "                     'loan_advances', 'bonus', 'restricted_stock_deferred',\n",
    "                     'deferred_income', 'total_stock_value', 'expenses', \n",
    "                     'exercised_stock_options', 'other', 'long_term_incentive',\n",
    "                     'restricted_stock', 'director_fees','to_messages', \n",
    "                     'from_poi_to_this_person', 'from_messages',\n",
    "                     'from_this_person_to_poi', 'shared_receipt_with_poi']\n",
    "\n",
    "data = featureFormat(data_dict, features_list_all)\n",
    "labels, features = targetFeatureSplit(data)"
   ]
  },
  {
   "cell_type": "code",
   "execution_count": 15,
   "metadata": {},
   "outputs": [
    {
     "name": "stdout",
     "output_type": "stream",
     "text": [
      "[ 18.57570327   0.21705893   8.86672154   7.2427304   21.06000171\n",
      "   0.06498431  11.59554766  24.46765405   6.23420114  25.09754153\n",
      "   4.20497086  10.07245453   9.34670079   2.10765594   1.69882435\n",
      "   5.34494152   0.1641645    2.42650813   8.74648553]\n"
     ]
    }
   ],
   "source": [
    "# 使用SelectKBest方法选择最优特征\n",
    "from sklearn.feature_selection import SelectKBest, f_classif\n",
    "\n",
    "# 查看特征评分\n",
    "selector = SelectKBest(f_classif)\n",
    "scores = selector.fit(features, labels).scores_\n",
    "print scores"
   ]
  },
  {
   "cell_type": "markdown",
   "metadata": {},
   "source": [
    "观察全部19个特征（排除了纯文本特征email_address）的得分，并通过手工更改k的取值反复测试，发现当k为5时机器学习模型的评估指标得分最高。"
   ]
  },
  {
   "cell_type": "code",
   "execution_count": 16,
   "metadata": {},
   "outputs": [
    {
     "name": "stdout",
     "output_type": "stream",
     "text": [
      "['poi', 'salary', 'bonus', 'deferred_income', 'total_stock_value', 'exercised_stock_options']\n"
     ]
    }
   ],
   "source": [
    "# 查看特征名称\n",
    "selector = SelectKBest(f_classif, k = 5).fit(features, labels)\n",
    "index = selector.get_support(indices = True)\n",
    "tmp_list = features_list_all[1:]\n",
    "\n",
    "#输出最优特征列表\n",
    "features_list_best = []\n",
    "for i in index:\n",
    "    features_list_best.append(tmp_list[i])\n",
    "\n",
    "# 将 'poi' 添加至特征列表的第一位\n",
    "features_list_best = ['poi', 'salary', 'bonus', 'deferred_income', 'total_stock_value', 'exercised_stock_options']\n",
    "\n",
    "print features_list_best"
   ]
  },
  {
   "cell_type": "markdown",
   "metadata": {},
   "source": [
    "## 三、选择、调整并验证评估"
   ]
  },
  {
   "cell_type": "markdown",
   "metadata": {},
   "source": [
    "### 1.选择算法"
   ]
  },
  {
   "cell_type": "markdown",
   "metadata": {},
   "source": [
    "目前所学的，适用于本项目预测POIs的算法主要有以下几种：\n",
    "\n",
    "1. 朴素贝叶斯（Naive Bayes）\n",
    "2. 支持向量机（SVM）\n",
    "3. 决策树（Decision Tree）\n",
    "4. K-最近邻（K-Nearest Neighbors）\n",
    "5. Adaboost\n",
    "6. 随机森林（Random Forest）\n",
    "\n",
    "本项目拟采用以上算法分别进行建立评估。"
   ]
  },
  {
   "cell_type": "markdown",
   "metadata": {},
   "source": [
    "### 2.参数调整的意义"
   ]
  },
  {
   "cell_type": "markdown",
   "metadata": {},
   "source": [
    "机器学习的算法是由参数驱动的。这些参数对于学习的效果有极其明显的影响。参数调整的目的是尽可能的为每个参数寻找最优值，以改善模型正确率。"
   ]
  },
  {
   "cell_type": "markdown",
   "metadata": {},
   "source": [
    "### 3.模型评估的指标选取"
   ]
  },
  {
   "cell_type": "markdown",
   "metadata": {},
   "source": [
    "我们分别使用精确度precision和召回率recall这两个指标来评估模型的好坏。\n",
    "\n",
    "常见的评估指标的定义如下：\n",
    "\n",
    "- Accuracy = (true positives + true negatives) / (total examples)\n",
    "- Precision = (true positives) / (true positives + false positives)\n",
    "- Recall = (true positives) / (true positives + false negatives)\n",
    "- F1 score = (2 precision recall) / (precision + recall)\n",
    "\n",
    "\n",
    "在本项目中，我们的最终目的是尽可能的识别出潜在的POIs。若使用Accuracy进行模型评估，它会将模型准确预测出POI和非POI的数量都计算在内，又因为安然数据集极不平衡，POI相对全部个体占比不足15%，那么使用Accuracy带来的问题就是模型即便没有准确预测出POI，也会因准确预测了大量的非POI而偏离建模目的。\n",
    "\n",
    "那么对于本项目而言，我们其实是希望模型尽可能多的给我们提供潜在POI人选，如果判断错了也没e什么，类似于“宁可错杀一千，不可放过一个”。而recall的使用情形，一般适用于我们希望被“冤枉”的越少越好。所以本项目中选择使用Precision作为模型的评估指标最为合适。Precision越高，表明我们预测的假正例越少，也就是那些是POI却没有被识别出来的个体越少。"
   ]
  },
  {
   "cell_type": "markdown",
   "metadata": {},
   "source": [
    "### 4.验证及其重要性"
   ]
  },
  {
   "cell_type": "markdown",
   "metadata": {},
   "source": [
    "验证是用于评估模型好坏的一个重要方法，我们通常将数据集分为训练集和测试集就是为了验证的方便。前者用以建立模型（model），后者则用来评估该模型对未知样本进行预测时的泛化能力。我们需要在测试集上进行验证，来确定训练集是否“过拟合”或者“欠拟合”。不同的数据集和训练集的划分方法，也会对验证的效果产生一定影响。"
   ]
  },
  {
   "cell_type": "markdown",
   "metadata": {},
   "source": [
    "### 5.交叉验证策略"
   ]
  },
  {
   "cell_type": "markdown",
   "metadata": {},
   "source": [
    "对于本项目而言，使用StratifiedShuffleSplit进行交叉验证较为合适。因为数据集本身类别分布极不均匀，StratifiedShuffleSplit可以确保测试集和训练集中类之间的比例分配基本一致。通过该方法可以有效提升学习算法的评估准确度。"
   ]
  },
  {
   "cell_type": "code",
   "execution_count": 19,
   "metadata": {},
   "outputs": [],
   "source": [
    "from sklearn.model_selection import StratifiedShuffleSplit\n",
    "# StratifiedShuffleSplit交叉验证，设置n_splits = 3，test_size = 0.3\n",
    "cv = StratifiedShuffleSplit(n_splits = 3, test_size = 0.3, random_state = 42)"
   ]
  },
  {
   "cell_type": "markdown",
   "metadata": {},
   "source": [
    "### 6.建模并评估"
   ]
  },
  {
   "cell_type": "markdown",
   "metadata": {},
   "source": [
    "#### 6.1 朴素贝叶斯（Naive Bayes）"
   ]
  },
  {
   "cell_type": "markdown",
   "metadata": {},
   "source": [
    "朴素贝叶斯的机器学习模型建立如下："
   ]
  },
  {
   "cell_type": "code",
   "execution_count": 22,
   "metadata": {},
   "outputs": [
    {
     "name": "stdout",
     "output_type": "stream",
     "text": [
      "GridSearchCV(cv=StratifiedShuffleSplit(n_splits=3, random_state=42, test_size=0.3,\n",
      "            train_size=None),\n",
      "       error_score='raise', estimator=GaussianNB(priors=None),\n",
      "       fit_params=None, iid=True, n_jobs=1, param_grid={},\n",
      "       pre_dispatch='2*n_jobs', refit=True, return_train_score='warn',\n",
      "       scoring='f1', verbose=0)\n",
      "\tAccuracy: 0.85464\tPrecision: 0.48876\tRecall: 0.38050\tF1: 0.42789\tF2: 0.39814\n",
      "\tTotal predictions: 14000\tTrue positives:  761\tFalse positives:  796\tFalse negatives: 1239\tTrue negatives: 11204\n",
      "\n"
     ]
    }
   ],
   "source": [
    "from sklearn.naive_bayes import GaussianNB\n",
    "from sklearn.model_selection import StratifiedShuffleSplit\n",
    "from sklearn.model_selection import GridSearchCV\n",
    "from tester import test_classifier\n",
    "\n",
    "# 创建分类器\n",
    "clf_NB = GaussianNB()\n",
    "\n",
    "## 使用StratifiedShuffleSplit进行交叉验证\n",
    "cv = StratifiedShuffleSplit(n_splits = 3, test_size = 0.3, random_state = 42)\n",
    "  \n",
    "# 使用GridSearchCV选择最佳参数\n",
    "para_NB = {}\n",
    "clf_NB = GridSearchCV(clf_NB, para_NB, cv = cv, scoring = 'f1')\n",
    "\n",
    "# 模型评分\n",
    "test_classifier(clf_NB, data_dict, features_list_best, folds = 1000)"
   ]
  },
  {
   "cell_type": "markdown",
   "metadata": {},
   "source": [
    "#### 6.2 支持向量机（SVM）"
   ]
  },
  {
   "cell_type": "markdown",
   "metadata": {},
   "source": [
    "支持向量机的机器学习模型构建如下："
   ]
  },
  {
   "cell_type": "code",
   "execution_count": 23,
   "metadata": {},
   "outputs": [
    {
     "name": "stdout",
     "output_type": "stream",
     "text": [
      "GridSearchCV(cv=StratifiedShuffleSplit(n_splits=3, random_state=42, test_size=0.3,\n",
      "            train_size=None),\n",
      "       error_score='raise',\n",
      "       estimator=Pipeline(memory=None,\n",
      "     steps=[('scaler', MinMaxScaler(copy=True, feature_range=(0, 1))), ('svc', SVC(C=1.0, cache_size=200, class_weight=None, coef0=0.0,\n",
      "  decision_function_shape='ovr', degree=3, gamma='auto', kernel='rbf',\n",
      "  max_iter=-1, probability=False, random_state=None, shrinking=True,\n",
      "  tol=0.001, verbose=False))]),\n",
      "       fit_params=None, iid=True, n_jobs=1,\n",
      "       param_grid={'svc__kernel': ('linear', 'rbf'), 'svc__C': [0.1, 1, 10]},\n",
      "       pre_dispatch='2*n_jobs', refit=True, return_train_score='warn',\n",
      "       scoring='f1', verbose=0)\n",
      "\tAccuracy: 0.84929\tPrecision: 0.32595\tRecall: 0.05150\tF1: 0.08895\tF2: 0.06193\n",
      "\tTotal predictions: 14000\tTrue positives:  103\tFalse positives:  213\tFalse negatives: 1897\tTrue negatives: 11787\n",
      "\n"
     ]
    }
   ],
   "source": [
    "from sklearn.svm import SVC\n",
    "from sklearn.preprocessing import MinMaxScaler\n",
    "from sklearn.pipeline import Pipeline\n",
    "\n",
    "# 创建分类器\n",
    "clf_svm = SVC()\n",
    "\n",
    "# 特征缩放\n",
    "min_max_scaler = MinMaxScaler()\n",
    "\n",
    "# 使用stratifiedShuffleSplit进行交叉验证\n",
    "cv = StratifiedShuffleSplit(n_splits = 3, test_size = 0.3, random_state = 42)\n",
    "\n",
    "# 使用pipeline封装特征缩放和分类器\n",
    "pip_svm = Pipeline(steps = [\n",
    "    ('scaler', min_max_scaler),\n",
    "    ('svc', clf_svm)\n",
    "])\n",
    "\n",
    "# 使用GridSearchCV选择最佳参数\n",
    "para_svm = {'svc__kernel': ('linear', 'rbf'), 'svc__C': [0.1, 1, 10]}\n",
    "clf_svm = GridSearchCV(pip_svm, para_svm, cv = cv, scoring = 'f1')\n",
    "\n",
    "# 模型评分\n",
    "test_classifier(clf_svm, data_dict, features_list_best, folds = 1000)"
   ]
  },
  {
   "cell_type": "markdown",
   "metadata": {
    "collapsed": true
   },
   "source": [
    "#### 6.3 决策树（Decision Tree）"
   ]
  },
  {
   "cell_type": "markdown",
   "metadata": {},
   "source": [
    "对于DecisionTreeClassifier的参数，由于本数据集特征较少，样本量也不大，多数参数均可使用默认值，但数据集中存在大量的缺失值，所以需要对参数min_weight_fraction_leaf进行设置。\n",
    "\n",
    "\n",
    "min_weight_fraction_leaf参数限制了叶子节点所有样本权重和的最小值，如果小于这个值，则会和兄弟节点一起被剪枝。 默认是0，就是不考虑权重。一般来说，如果我们有较多样本有缺失值，或者分类树样本的分布类别偏差很大，就会引入样本权重，这时我们就要注意这个值了。"
   ]
  },
  {
   "cell_type": "markdown",
   "metadata": {
    "collapsed": true
   },
   "source": [
    "决策树的机器学习模型构建如下："
   ]
  },
  {
   "cell_type": "code",
   "execution_count": 24,
   "metadata": {},
   "outputs": [
    {
     "name": "stdout",
     "output_type": "stream",
     "text": [
      "GridSearchCV(cv=StratifiedShuffleSplit(n_splits=3, random_state=42, test_size=0.3,\n",
      "            train_size=None),\n",
      "       error_score='raise',\n",
      "       estimator=DecisionTreeClassifier(class_weight=None, criterion='gini', max_depth=None,\n",
      "            max_features=None, max_leaf_nodes=None,\n",
      "            min_impurity_decrease=0.0, min_impurity_split=None,\n",
      "            min_samples_leaf=1, min_samples_split=2,\n",
      "            min_weight_fraction_leaf=0.0, presort=False, random_state=None,\n",
      "            splitter='best'),\n",
      "       fit_params=None, iid=True, n_jobs=1,\n",
      "       param_grid={'min_weight_fraction_leaf': array([ 0.01,  0.02,  0.03,  0.04,  0.05,  0.06,  0.07,  0.08])},\n",
      "       pre_dispatch='2*n_jobs', refit=True, return_train_score='warn',\n",
      "       scoring='f1', verbose=0)\n",
      "\tAccuracy: 0.83007\tPrecision: 0.34779\tRecall: 0.21650\tF1: 0.26687\tF2: 0.23418\n",
      "\tTotal predictions: 14000\tTrue positives:  433\tFalse positives:  812\tFalse negatives: 1567\tTrue negatives: 11188\n",
      "\n"
     ]
    }
   ],
   "source": [
    "from sklearn.tree import DecisionTreeClassifier\n",
    "import numpy as np\n",
    "\n",
    "# 创建分类器\n",
    "clf_tree = DecisionTreeClassifier()\n",
    "\n",
    "# 使用StratifiedShuffleSplit进行交叉验证\n",
    "cv = StratifiedShuffleSplit(n_splits = 3, test_size = 0.3, random_state = 42)\n",
    "\n",
    "# 使用GridSearchCV选择最佳参数\n",
    "para_tree = {'min_weight_fraction_leaf': np.arange(0.01, 0.09, 0.01)}\n",
    "clf_tree = GridSearchCV(clf_tree, para_tree, cv = cv, scoring = 'f1')\n",
    "\n",
    "# 模型评分\n",
    "test_classifier(clf_tree, data_dict, features_list_best, folds = 1000)"
   ]
  },
  {
   "cell_type": "markdown",
   "metadata": {},
   "source": [
    "#### 6.4 K-最近邻（K-Nearest Neighbors）"
   ]
  },
  {
   "cell_type": "markdown",
   "metadata": {},
   "source": [
    "K-最近邻的机器学习模型构建如下："
   ]
  },
  {
   "cell_type": "code",
   "execution_count": 25,
   "metadata": {
    "scrolled": false
   },
   "outputs": [
    {
     "name": "stdout",
     "output_type": "stream",
     "text": [
      "GridSearchCV(cv=StratifiedShuffleSplit(n_splits=3, random_state=42, test_size=0.3,\n",
      "            train_size=None),\n",
      "       error_score='raise',\n",
      "       estimator=Pipeline(memory=None,\n",
      "     steps=[('scaler', MinMaxScaler(copy=True, feature_range=(0, 1))), ('clf', KNeighborsClassifier(algorithm='auto', leaf_size=30, metric='minkowski',\n",
      "           metric_params=None, n_jobs=1, n_neighbors=5, p=2,\n",
      "           weights='uniform'))]),\n",
      "       fit_params=None, iid=True, n_jobs=1,\n",
      "       param_grid={'clf__weights': ('uniform', 'distance'), 'clf__algorithm': ('auto', 'ball_tree', 'kd_tree', 'brute'), 'clf__n_neighbors': [1, 2, 3]},\n",
      "       pre_dispatch='2*n_jobs', refit=True, return_train_score='warn',\n",
      "       scoring='f1', verbose=0)\n",
      "\tAccuracy: 0.82086\tPrecision: 0.32603\tRecall: 0.23800\tF1: 0.27514\tF2: 0.25159\n",
      "\tTotal predictions: 14000\tTrue positives:  476\tFalse positives:  984\tFalse negatives: 1524\tTrue negatives: 11016\n",
      "\n"
     ]
    }
   ],
   "source": [
    "from sklearn.neighbors import KNeighborsClassifier\n",
    "\n",
    "# 创建分类器\n",
    "clf_knn = KNeighborsClassifier()\n",
    "\n",
    "# 使用StratifiedShuffleSplit进行交叉验证\n",
    "cv = StratifiedShuffleSplit(n_splits = 3, test_size = 0.3, random_state = 42)\n",
    "\n",
    "# 因K-NN算法使用距离判断邻居的远近，需使用缩放特征\n",
    "min_max_scale = MinMaxScaler()\n",
    "\n",
    "# 使用pipeline封装特征缩放和分类器\n",
    "pip_knn = Pipeline(steps = [\n",
    "    ('scaler', min_max_scaler),\n",
    "    ('clf', clf_knn)\n",
    "])\n",
    "\n",
    "# 使用GridSearchCV进行参数调优\n",
    "para_knn = {\n",
    "    'clf__n_neighbors': range(1,4),\n",
    "    'clf__weights': ('uniform', 'distance'),\n",
    "    'clf__algorithm': ('auto', 'ball_tree', 'kd_tree', 'brute')\n",
    "}\n",
    "\n",
    "clf_knn = GridSearchCV(pip_knn, para_knn, cv = cv, scoring = 'f1')\n",
    "\n",
    "# 模型评分\n",
    "test_classifier(clf_knn, data_dict, features_list_best, folds = 1000)"
   ]
  },
  {
   "cell_type": "markdown",
   "metadata": {
    "collapsed": true
   },
   "source": [
    "#### 1.5 AdaBoost"
   ]
  },
  {
   "cell_type": "markdown",
   "metadata": {},
   "source": [
    "在scikit-learn中，AdaBoostClassifier的框架参数主要有：\n",
    "\n",
    "1. base_estimator: 它是指弱学习分类器，默认是决策树。同时，决策树弱学习分类器的参数也是可以调整的。  \n",
    "\n",
    "2. algorithm: scikit-learn实现了两种Adaboost分类算法，SAMME和SAMME.R。两者的主要区别是弱学习器权重的度量，SAMME将样本集分类效果作为弱学习器权重，而SAMME.R则将样本集分类的预测概率大小来作为弱学习器权重。由于SAMME.R使用了概率度量的连续值，迭代一般比SAMME快，因此AdaBoostClassifier的默认算法algorithm的值也是SAMME.R。一般使用默认的SAMME.R就够了，但是要注意的是使用了SAMME.R，则弱分类学习器参数base_estimator必须限制使用支持概率预测的分类器。SAMME算法则没有这个限制。  \n",
    "\n",
    "3. n_estimators: 它指弱学习器的最大迭代次数，或者说最大的弱学习器的个数。一般来说n_estimators太小，容易欠拟合，n_estimators太大，又容易过拟合，默认是50。在实际调参的过程中，常常将n_estimators和参数learning_rate一起考虑。  \n",
    "\n",
    "4. learning_rate: 每个弱学习器的权重缩减系数。取值范围为0<ν≤1。对于同样的训练集拟合效果，较小的ν意味着需要更多的弱学习器的迭代次数。实践中通常用步长和迭代最大次数一起来决定算法的拟合效果。所以这两个参数n_estimators和learning_rate要一起调参。一般来说，可以从一个小一点的ν开始调参，默认是1。 "
   ]
  },
  {
   "cell_type": "markdown",
   "metadata": {
    "collapsed": true
   },
   "source": [
    "AdaBoost的机器学习模型建立如下："
   ]
  },
  {
   "cell_type": "code",
   "execution_count": 28,
   "metadata": {},
   "outputs": [
    {
     "name": "stdout",
     "output_type": "stream",
     "text": [
      "RandomizedSearchCV(cv=StratifiedShuffleSplit(n_splits=3, random_state=42, test_size=0.3,\n",
      "            train_size=None),\n",
      "          error_score='raise',\n",
      "          estimator=AdaBoostClassifier(algorithm='SAMME.R', base_estimator=None,\n",
      "          learning_rate=1.0, n_estimators=50, random_state=None),\n",
      "          fit_params=None, iid=True, n_iter=3, n_jobs=1,\n",
      "          param_distributions={'n_estimators': [40, 60], 'learning_rate': [0.5, 1]},\n",
      "          pre_dispatch='2*n_jobs', random_state=None, refit=True,\n",
      "          return_train_score='warn', scoring='f1', verbose=0)\n",
      "\tAccuracy: 0.83179\tPrecision: 0.36783\tRecall: 0.24700\tF1: 0.29554\tF2: 0.26437\n",
      "\tTotal predictions: 14000\tTrue positives:  494\tFalse positives:  849\tFalse negatives: 1506\tTrue negatives: 11151\n",
      "\n"
     ]
    }
   ],
   "source": [
    "from sklearn.ensemble import AdaBoostClassifier\n",
    "from sklearn.model_selection import RandomizedSearchCV\n",
    "\n",
    "# 建立模型\n",
    "clf_ada = AdaBoostClassifier()\n",
    "\n",
    "# 使用StratifiedShuffleSplit进行交叉验证\n",
    "cv = StratifiedShuffleSplit(n_splits = 3, test_size = 0.3, random_state = 42)\n",
    "\n",
    "# 由于AdaBoost模型训练时间过长，使用RandomizedSearchCV进行参数调优\n",
    "para_ada = {\n",
    "    'n_estimators': [40, 60],\n",
    "    'learning_rate': [0.5, 1]\n",
    "}\n",
    "\n",
    "clf_ada = RandomizedSearchCV(clf_ada, para_ada, n_iter = 3, cv = cv, scoring = 'f1')\n",
    "\n",
    "# 模型评分\n",
    "test_classifier(clf_ada, data_dict, features_list_best, folds = 1000)"
   ]
  },
  {
   "cell_type": "markdown",
   "metadata": {
    "collapsed": true
   },
   "source": [
    "#### 1.6 随机森林（Random Forest）"
   ]
  },
  {
   "cell_type": "markdown",
   "metadata": {
    "collapsed": true
   },
   "source": [
    "随机森林机器学习模型构建如下："
   ]
  },
  {
   "cell_type": "code",
   "execution_count": 32,
   "metadata": {},
   "outputs": [
    {
     "name": "stdout",
     "output_type": "stream",
     "text": [
      "RandomizedSearchCV(cv=StratifiedShuffleSplit(n_splits=3, random_state=42, test_size=0.3,\n",
      "            train_size=None),\n",
      "          error_score='raise',\n",
      "          estimator=RandomForestClassifier(bootstrap=True, class_weight=None, criterion='gini',\n",
      "            max_depth=None, max_features='auto', max_leaf_nodes=None,\n",
      "            min_impurity_decrease=0.0, min_impurity_split=None,\n",
      "            min_samples_leaf=1, min_samples_split=2,\n",
      "            min_weight_fraction_leaf=0.0, n_estimators=10, n_jobs=1,\n",
      "            oob_score=False, random_state=None, verbose=0,\n",
      "            warm_start=False),\n",
      "          fit_params=None, iid=True, n_iter=3, n_jobs=1,\n",
      "          param_distributions={'min_weight_fraction_leaf': [0.04, 0.1], 'criterion': ('gini', 'entropy')},\n",
      "          pre_dispatch='2*n_jobs', random_state=None, refit=True,\n",
      "          return_train_score='warn', scoring='f1', verbose=0)\n",
      "\tAccuracy: 0.85636\tPrecision: 0.48775\tRecall: 0.10950\tF1: 0.17885\tF2: 0.12960\n",
      "\tTotal predictions: 14000\tTrue positives:  219\tFalse positives:  230\tFalse negatives: 1781\tTrue negatives: 11770\n",
      "\n"
     ]
    }
   ],
   "source": [
    "from sklearn.ensemble import RandomForestClassifier\n",
    "\n",
    "# 建立模型\n",
    "clf_rf = RandomForestClassifier()\n",
    "\n",
    "# 使用StratifiedShuffleSplit进行交叉验证\n",
    "cv = StratifiedShuffleSplit(n_splits = 3, test_size = 0.3, random_state = 42)\n",
    "\n",
    "# 由于训练时间过长，使用RandomizedSearchCV进行参数调优\n",
    "para_rf = {\n",
    "    'criterion': ('gini', 'entropy'),\n",
    "    'min_weight_fraction_leaf': [0.04, 0.1]\n",
    "}\n",
    "\n",
    "clf_rf = RandomizedSearchCV(clf_rf, para_rf,n_iter = 3, cv = cv, scoring = 'f1')\n",
    "\n",
    "# 模型评分\n",
    "test_classifier(clf_rf, data_dict, features_list_best, folds = 1000)"
   ]
  },
  {
   "cell_type": "markdown",
   "metadata": {
    "collapsed": true
   },
   "source": [
    "## 四、最终模型"
   ]
  },
  {
   "cell_type": "markdown",
   "metadata": {},
   "source": [
    "### 1. 模型结果对比"
   ]
  },
  {
   "cell_type": "markdown",
   "metadata": {},
   "source": [
    "朴素贝叶斯、支持向量机、决策树和K-NN的模型效果如下："
   ]
  },
  {
   "cell_type": "markdown",
   "metadata": {},
   "source": [
    "1.朴素贝叶斯："
   ]
  },
  {
   "cell_type": "markdown",
   "metadata": {},
   "source": [
    "```\n",
    "GridSearchCV(cv=StratifiedShuffleSplit(n_splits=3, random_state=42, test_size=0.3,\n",
    "            train_size=None),\n",
    "       error_score='raise', estimator=GaussianNB(priors=None),\n",
    "       fit_params=None, iid=True, n_jobs=1, param_grid={},\n",
    "       pre_dispatch='2*n_jobs', refit=True, return_train_score='warn',\n",
    "       scoring='f1', verbose=0)\n",
    "\tAccuracy: 0.85464\tPrecision: 0.48876\tRecall: 0.38050\tF1: 0.42789\tF2: 0.39814\n",
    "\tTotal predictions: 14000\tTrue positives:  761\tFalse positives:  796\tFalse negatives: 1239\tTrue negatives: 11204\n",
    "```"
   ]
  },
  {
   "cell_type": "markdown",
   "metadata": {},
   "source": [
    "2.支持向量机："
   ]
  },
  {
   "cell_type": "markdown",
   "metadata": {},
   "source": [
    "```\n",
    "GridSearchCV(cv=StratifiedShuffleSplit(n_splits=3, random_state=42, test_size=0.3,\n",
    "            train_size=None),\n",
    "       error_score='raise',\n",
    "       estimator=Pipeline(memory=None,\n",
    "     steps=[('scaler', MinMaxScaler(copy=True, feature_range=(0, 1))), ('svc', SVC(C=1.0, cache_size=200, class_weight=None, coef0=0.0,\n",
    "  decision_function_shape='ovr', degree=3, gamma='auto', kernel='rbf',\n",
    "  max_iter=-1, probability=False, random_state=None, shrinking=True,\n",
    "  tol=0.001, verbose=False))]),\n",
    "       fit_params=None, iid=True, n_jobs=1,\n",
    "       param_grid={'svc__kernel': ('linear', 'rbf'), 'svc__C': [0.1, 1, 10]},\n",
    "       pre_dispatch='2*n_jobs', refit=True, return_train_score='warn',\n",
    "       scoring='f1', verbose=0)\n",
    "\tAccuracy: 0.84929\tPrecision: 0.32595\tRecall: 0.05150\tF1: 0.08895\tF2: 0.06193\n",
    "\tTotal predictions: 14000\tTrue positives:  103\tFalse positives:  213\tFalse negatives: 1897\tTrue negatives: 11787\n",
    "\n",
    "```"
   ]
  },
  {
   "cell_type": "markdown",
   "metadata": {},
   "source": [
    "3.决策树："
   ]
  },
  {
   "cell_type": "markdown",
   "metadata": {},
   "source": [
    "```\n",
    "GridSearchCV(cv=StratifiedShuffleSplit(n_splits=3, random_state=42, test_size=0.3,\n",
    "            train_size=None),\n",
    "       error_score='raise',\n",
    "       estimator=DecisionTreeClassifier(class_weight=None, criterion='gini', max_depth=None,\n",
    "            max_features=None, max_leaf_nodes=None,\n",
    "            min_impurity_decrease=0.0, min_impurity_split=None,\n",
    "            min_samples_leaf=1, min_samples_split=2,\n",
    "            min_weight_fraction_leaf=0.0, presort=False, random_state=None,\n",
    "            splitter='best'),\n",
    "       fit_params=None, iid=True, n_jobs=1,\n",
    "       param_grid={'min_weight_fraction_leaf': array([ 0.01,  0.02,  0.03,  0.04,  0.05,  0.06,  0.07,  0.08])},\n",
    "       pre_dispatch='2*n_jobs', refit=True, return_train_score='warn',\n",
    "       scoring='f1', verbose=0)\n",
    "\tAccuracy: 0.83007\tPrecision: 0.34779\tRecall: 0.21650\tF1: 0.26687\tF2: 0.23418\n",
    "\tTotal predictions: 14000\tTrue positives:  433\tFalse positives:  812\tFalse negatives: 1567\tTrue negatives: 11188\n",
    "```"
   ]
  },
  {
   "cell_type": "markdown",
   "metadata": {},
   "source": [
    "4.K-近邻："
   ]
  },
  {
   "cell_type": "markdown",
   "metadata": {},
   "source": [
    "```\n",
    "GridSearchCV(cv=StratifiedShuffleSplit(n_splits=3, random_state=42, test_size=0.3,\n",
    "            train_size=None),\n",
    "       error_score='raise',\n",
    "       estimator=Pipeline(memory=None,\n",
    "     steps=[('scaler', MinMaxScaler(copy=True, feature_range=(0, 1))), ('clf', KNeighborsClassifier(algorithm='auto', leaf_size=30, metric='minkowski',\n",
    "           metric_params=None, n_jobs=1, n_neighbors=5, p=2,\n",
    "           weights='uniform'))]),\n",
    "       fit_params=None, iid=True, n_jobs=1,\n",
    "       param_grid={'clf__weights': ('uniform', 'distance'), 'clf__algorithm': ('auto', 'ball_tree', 'kd_tree', 'brute'), 'clf__n_neighbors': [1, 2, 3]},\n",
    "       pre_dispatch='2*n_jobs', refit=True, return_train_score='warn',\n",
    "       scoring='f1', verbose=0)\n",
    "\tAccuracy: 0.82086\tPrecision: 0.32603\tRecall: 0.23800\tF1: 0.27514\tF2: 0.25159\n",
    "\tTotal predictions: 14000\tTrue positives:  476\tFalse positives:  984\tFalse negatives: 1524\tTrue negatives: 11016\n",
    "```"
   ]
  },
  {
   "cell_type": "markdown",
   "metadata": {},
   "source": [
    "5.AdaBoost："
   ]
  },
  {
   "cell_type": "markdown",
   "metadata": {},
   "source": [
    "```\n",
    "RandomizedSearchCV(cv=StratifiedShuffleSplit(n_splits=3, random_state=42, test_size=0.3,\n",
    "            train_size=None),\n",
    "          error_score='raise',\n",
    "          estimator=AdaBoostClassifier(algorithm='SAMME.R', base_estimator=None,\n",
    "          learning_rate=1.0, n_estimators=50, random_state=None),\n",
    "          fit_params=None, iid=True, n_iter=3, n_jobs=1,\n",
    "          param_distributions={'n_estimators': [40, 60], 'learning_rate': [0.5, 1]},\n",
    "          pre_dispatch='2*n_jobs', random_state=None, refit=True,\n",
    "          return_train_score='warn', scoring='f1', verbose=0)\n",
    "\tAccuracy: 0.83179\tPrecision: 0.36783\tRecall: 0.24700\tF1: 0.29554\tF2: 0.26437\n",
    "\tTotal predictions: 14000\tTrue positives:  494\tFalse positives:  849\tFalse negatives: 1506\tTrue negatives: 11151\n",
    "```"
   ]
  },
  {
   "cell_type": "markdown",
   "metadata": {},
   "source": [
    "6.随机森林："
   ]
  },
  {
   "cell_type": "markdown",
   "metadata": {},
   "source": [
    "```\n",
    "RandomizedSearchCV(cv=StratifiedShuffleSplit(n_splits=3, random_state=42, test_size=0.3,\n",
    "            train_size=None),\n",
    "          error_score='raise',\n",
    "          estimator=RandomForestClassifier(bootstrap=True, class_weight=None, criterion='gini',\n",
    "            max_depth=None, max_features='auto', max_leaf_nodes=None,\n",
    "            min_impurity_decrease=0.0, min_impurity_split=None,\n",
    "            min_samples_leaf=1, min_samples_split=2,\n",
    "            min_weight_fraction_leaf=0.0, n_estimators=10, n_jobs=1,\n",
    "            oob_score=False, random_state=None, verbose=0,\n",
    "            warm_start=False),\n",
    "          fit_params=None, iid=True, n_iter=3, n_jobs=1,\n",
    "          param_distributions={'min_weight_fraction_leaf': [0.04, 0.1], 'criterion': ('gini', 'entropy')},\n",
    "          pre_dispatch='2*n_jobs', random_state=None, refit=True,\n",
    "          return_train_score='warn', scoring='f1', verbose=0)\n",
    "\tAccuracy: 0.85636\tPrecision: 0.48775\tRecall: 0.10950\tF1: 0.17885\tF2: 0.12960\n",
    "\tTotal predictions: 14000\tTrue positives:  219\tFalse positives:  230\tFalse negatives: 1781\tTrue negatives: 11770\n",
    "\n",
    "```"
   ]
  },
  {
   "cell_type": "markdown",
   "metadata": {},
   "source": [
    "经对比以上六种模型的结果，朴素贝叶斯的各项评分均高于其他模型。所以选择**朴素贝叶斯**作为最终模型。"
   ]
  },
  {
   "cell_type": "markdown",
   "metadata": {},
   "source": [
    "### 2.添加新特征对模型预测结果的影响"
   ]
  },
  {
   "cell_type": "code",
   "execution_count": 29,
   "metadata": {},
   "outputs": [
    {
     "name": "stdout",
     "output_type": "stream",
     "text": [
      "GridSearchCV(cv=StratifiedShuffleSplit(n_splits=3, random_state=42, test_size=0.3,\n",
      "            train_size=None),\n",
      "       error_score='raise', estimator=GaussianNB(priors=None),\n",
      "       fit_params=None, iid=True, n_jobs=1, param_grid={},\n",
      "       pre_dispatch='2*n_jobs', refit=True, return_train_score='warn',\n",
      "       scoring='f1', verbose=0)\n",
      "\tAccuracy: 0.86050\tPrecision: 0.51572\tRecall: 0.38550\tF1: 0.44120\tF2: 0.40600\n",
      "\tTotal predictions: 14000\tTrue positives:  771\tFalse positives:  724\tFalse negatives: 1229\tTrue negatives: 11276\n",
      "\n"
     ]
    }
   ],
   "source": [
    "# 添加新特征后的特征列表\n",
    "features_list_best_new = ['poi', 'salary', 'bonus',\n",
    "                          'deferred_income', 'total_stock_value', \n",
    "                          'exercised_stock_options', 'ratio_from_poi']\n",
    "\n",
    "# 模型评分\n",
    "test_classifier(clf_NB, data_dict, features_list_best_new)"
   ]
  },
  {
   "cell_type": "code",
   "execution_count": 30,
   "metadata": {},
   "outputs": [
    {
     "name": "stdout",
     "output_type": "stream",
     "text": [
      "加入新特征后，各项评分指标变动情况如下：\n",
      "Accuracy 变动： 0.00586\n",
      "Precision 变动: 0.02696\n",
      "Recall 变动: 0.005\n",
      "F1 变动: 0.01331\n",
      "F2 变动: 0.00786\n"
     ]
    }
   ],
   "source": [
    "print \"加入新特征后，各项评分指标变动情况如下：\"\n",
    "print \"Accuracy 变动：\", (0.86050 - 0.85464)\n",
    "print \"Precision 变动:\", (0.51572 - 0.48876)\n",
    "print \"Recall 变动:\", (0.38550 - 0.38050)\n",
    "print \"F1 变动:\", (0.44120 - 0.42789)\n",
    "print \"F2 变动:\", (0.40600 - 0.39814)"
   ]
  },
  {
   "cell_type": "markdown",
   "metadata": {
    "collapsed": true
   },
   "source": [
    "各项指标均有提升，说明'ratio_from_poi'指标对于模型预测POI的准确率具有正向影响。"
   ]
  }
 ],
 "metadata": {
  "kernelspec": {
   "display_name": "Python 2",
   "language": "python",
   "name": "python2"
  },
  "language_info": {
   "codemirror_mode": {
    "name": "ipython",
    "version": 2
   },
   "file_extension": ".py",
   "mimetype": "text/x-python",
   "name": "python",
   "nbconvert_exporter": "python",
   "pygments_lexer": "ipython2",
   "version": "2.7.14"
  }
 },
 "nbformat": 4,
 "nbformat_minor": 2
}
